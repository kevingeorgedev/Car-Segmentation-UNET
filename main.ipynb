{
 "cells": [
  {
   "cell_type": "markdown",
   "metadata": {},
   "source": [
    "# Car Segmentation Task with U-NET Architecture"
   ]
  },
  {
   "cell_type": "markdown",
   "metadata": {},
   "source": [
    "## Download dataset from Kaggle\n",
    "Make sure to:\n",
    "- Join competition on Kaggle\n",
    "- Register API\n",
    "- Export data from the zip folders"
   ]
  },
  {
   "cell_type": "code",
   "execution_count": 1,
   "metadata": {},
   "outputs": [],
   "source": [
    "import kaggle\n",
    "import os\n",
    "\n",
    "kaggle.api.authenticate()\n",
    "\n",
    "files = [\"train.zip\", \"train_masks.zip\"]\n",
    "\n",
    "if len(os.listdir(\".kaggle\")) < len(files):\n",
    "    # Download each file\n",
    "    for file in files:\n",
    "        kaggle.api.competition_download_file(competition=\"carvana-image-masking-challenge\", file_name=file, path=\".kaggle\")"
   ]
  },
  {
   "cell_type": "markdown",
   "metadata": {},
   "source": [
    "### Files that can be extracted"
   ]
  },
  {
   "cell_type": "code",
   "execution_count": 2,
   "metadata": {},
   "outputs": [
    {
     "name": "stdout",
     "output_type": "stream",
     "text": [
      "name                        size  creationDate         \n",
      "-------------------------  -----  -------------------  \n",
      "train.zip                  405MB  2018-06-22 02:52:10  \n",
      "test.zip                     8GB  2018-06-22 02:52:10  \n",
      "test_hq.zip                 15GB  2018-06-22 02:52:10  \n",
      "train_hq.zip               804MB  2018-06-22 02:52:10  \n",
      "metadata.csv.zip            81KB  2018-06-22 02:52:10  \n",
      "train_masks.csv.zip         15MB  2018-06-22 02:52:10  \n",
      "29bb3ece3180_11.jpg        107KB  2018-06-22 02:52:10  \n",
      "sample_submission.csv.zip  202KB  2018-06-22 02:52:10  \n",
      "train_masks.zip             29MB  2018-06-22 02:52:10  \n"
     ]
    }
   ],
   "source": [
    "!kaggle competitions files -c carvana-image-masking-challenge"
   ]
  },
  {
   "cell_type": "markdown",
   "metadata": {},
   "source": [
    "## Import modules"
   ]
  },
  {
   "cell_type": "code",
   "execution_count": 13,
   "metadata": {},
   "outputs": [],
   "source": [
    "import torch\n",
    "import torch.nn as nn\n",
    "import torch.optim as optim\n",
    "from torch.utils.data import DataLoader, Dataset, random_split\n",
    "import torch.nn.functional as F\n",
    "\n",
    "from torchvision import transforms\n",
    "from torchvision.utils import save_image\n",
    "import torchvision.transforms.functional as VT\n",
    "\n",
    "from PIL import Image\n",
    "import numpy as np\n",
    "import matplotlib.pyplot as plt\n",
    "from tqdm import tqdm\n",
    "\n",
    "def count_parameters(model):\n",
    "    return sum(p.numel() for p in model.parameters() if p.requires_grad)\n",
    "\n",
    "# Define device used for training\n",
    "device, pin_memory = torch.device('cuda' if torch.cuda.is_available() else 'cpu'), torch.cuda.is_available()\n",
    "\n",
    "# Root directory for dataset\n",
    "dataroot = \".kaggle\"\n",
    "\n",
    "# Specify image dimensions\n",
    "img_height = 160\n",
    "img_width = 240\n",
    "\n",
    "# Directories\n",
    "image_dir = '.kaggle/train'\n",
    "mask_dir = '.kaggle/train_masks'\n",
    "model_output_folder = \"model_outputs\"\n",
    "\n",
    "# Epochs to train for\n",
    "num_epochs = 10\n",
    "\n",
    "# Batch size for dataloading\n",
    "batch_size = 16\n",
    "\n",
    "# Pretrained model settings\n",
    "use_pretrained = False\n",
    "continue_training = True\n",
    "checkpoint_path = \"models\\\\model_0.pth\"\n",
    "\n",
    "# Percentage of data in the train set\n",
    "train_split = 0.9"
   ]
  },
  {
   "cell_type": "markdown",
   "metadata": {},
   "source": [
    "## Data Preparation"
   ]
  },
  {
   "cell_type": "markdown",
   "metadata": {},
   "source": [
    "### Create Custom Dataset\n",
    "This class handles transforming the requested image to fit the model"
   ]
  },
  {
   "cell_type": "code",
   "execution_count": 4,
   "metadata": {},
   "outputs": [],
   "source": [
    "class ImageDataset(Dataset):\n",
    "    def __init__(self, image_dir, mask_dir, transform=None):\n",
    "        self.image_dir = image_dir\n",
    "        self.mask_dir = mask_dir\n",
    "        self.image_files = sorted(os.listdir(image_dir))\n",
    "        self.mask_files = sorted(os.listdir(mask_dir))\n",
    "        self.transform = transform\n",
    "\n",
    "    def __len__(self):\n",
    "        return len(self.image_files)\n",
    "    \n",
    "    def __getitem__(self, index):\n",
    "        img_path = os.path.join(self.image_dir, self.image_files[index])\n",
    "        mask_path = os.path.join(self.mask_dir, self.mask_files[index])\n",
    "\n",
    "        image = Image.open(img_path).convert(\"RGB\")\n",
    "        mask = Image.open(mask_path).convert(\"L\")\n",
    "        \n",
    "        if self.transform:\n",
    "            image = self.transform(image)\n",
    "            #image = transforms.Normalize((0.485, 0.456, 0.406), (0.229, 0.224, 0.225))(image)\n",
    "            mask = self.transform(mask)\n",
    "            mask = mask * (mask == 1.0)\n",
    "\n",
    "        return image, mask"
   ]
  },
  {
   "cell_type": "markdown",
   "metadata": {},
   "source": [
    "### Define transform for data, datasets, and dataloaders"
   ]
  },
  {
   "cell_type": "code",
   "execution_count": 5,
   "metadata": {},
   "outputs": [],
   "source": [
    "transform = transforms.Compose([\n",
    "    transforms.Resize((img_height, img_width)),\n",
    "    transforms.ToTensor(),\n",
    "    transforms.RandomHorizontalFlip(p=0.5),\n",
    "])\n",
    "\n",
    "dataset = ImageDataset(image_dir=image_dir, mask_dir=mask_dir, transform=transform)\n",
    "\n",
    "train_size = int(len(dataset) * train_split)\n",
    "test_size = len(dataset) - train_size\n",
    "\n",
    "train_dataset, test_dataset = random_split(dataset, [train_size, test_size])\n",
    "\n",
    "train_loader = DataLoader(train_dataset, batch_size=batch_size, shuffle=True, pin_memory=pin_memory)\n",
    "test_loader = DataLoader(test_dataset, batch_size=batch_size, shuffle=False, pin_memory=pin_memory)"
   ]
  },
  {
   "cell_type": "markdown",
   "metadata": {},
   "source": [
    "### Test image transform to consist of only black ($0.0$) or white ($1.0$) pixels."
   ]
  },
  {
   "cell_type": "code",
   "execution_count": 6,
   "metadata": {},
   "outputs": [
    {
     "data": {
      "text/plain": [
       "{0.0: 31002, 1.0: 7398}"
      ]
     },
     "execution_count": 6,
     "metadata": {},
     "output_type": "execute_result"
    }
   ],
   "source": [
    "value_counts = {}\n",
    "\n",
    "for x in train_dataset[0][1].flatten():\n",
    "    if x.item() in value_counts:\n",
    "        value_counts[x.item()] += 1\n",
    "    else:\n",
    "        value_counts[x.item()] = 1\n",
    "\n",
    "assert len(value_counts) == 2, \"Values of masks must equal 0.0 or 1.0\"\n",
    "value_counts"
   ]
  },
  {
   "cell_type": "code",
   "execution_count": 7,
   "metadata": {},
   "outputs": [
    {
     "data": {
      "image/png": "[encoded data removed]",
      "text/plain": [
       "<Figure size 1000x500 with 2 Axes>"
      ]
     },
     "metadata": {},
     "output_type": "display_data"
    }
   ],
   "source": [
    "# Select a random sample\n",
    "idx = np.random.randint(0, len(train_dataset))\n",
    "image, mask = train_dataset[idx]\n",
    "\n",
    "#image *= std.view(-1, 1, 1) + mean.view(-1, 1, 1)\n",
    "\n",
    "#torch.clamp_(image, 0, 1)\n",
    "\n",
    "# Convert tensors to NumPy format for plotting\n",
    "image = image.permute(1, 2, 0).numpy()\n",
    "mask = mask.permute(1, 2, 0).numpy()\n",
    "\n",
    "# Plot side by side\n",
    "fig, ax = plt.subplots(1, 2, figsize=(10, 5))\n",
    "\n",
    "ax[0].imshow(image)\n",
    "ax[0].set_title(\"Image\")\n",
    "ax[0].axis(\"off\")\n",
    "\n",
    "ax[1].imshow(mask, cmap='gray') # Use grayscale colormap for mask\n",
    "ax[1].set_title(\"Mask\")\n",
    "ax[1].axis(\"off\")\n",
    "\n",
    "plt.show()\n",
    "\n",
    "# Images may be flipped horizontally"
   ]
  },
  {
   "cell_type": "markdown",
   "metadata": {},
   "source": [
    "## Create U-NET Model\n",
    "![alt text](UNET_Architecture.jpg \"UNET\")"
   ]
  },
  {
   "cell_type": "markdown",
   "metadata": {},
   "source": [
    "### Implementation in PyTorch"
   ]
  },
  {
   "cell_type": "code",
   "execution_count": 8,
   "metadata": {},
   "outputs": [],
   "source": [
    "class ConvBlock(nn.Module):\n",
    "    def __init__(self, in_channels, out_channels):\n",
    "        super(ConvBlock, self).__init__()\n",
    "        self.block = nn.Sequential(\n",
    "            nn.Conv2d(in_channels=in_channels, out_channels=out_channels, kernel_size=3, padding=1, stride=1),\n",
    "            nn.BatchNorm2d(out_channels),\n",
    "            nn.ReLU(inplace=True),\n",
    "            nn.Conv2d(in_channels=out_channels, out_channels=out_channels, kernel_size=3, padding=1, stride=1),\n",
    "            nn.BatchNorm2d(out_channels),\n",
    "            nn.ReLU(inplace=True)\n",
    "        )\n",
    "\n",
    "    def forward(self, x):\n",
    "        return self.block(x)\n",
    "    \n",
    "class UNET(nn.Module):\n",
    "    def __init__(self, in_channels=1, out_channels=1, features=[64, 128, 256, 512]):\n",
    "        super(UNET, self).__init__()\n",
    "\n",
    "        self.down = nn.ModuleList([])\n",
    "        self.up = nn.ModuleList([])\n",
    "        self.pool = nn.MaxPool2d(2, 2)\n",
    "\n",
    "        for feature in features:\n",
    "            self.down.append(ConvBlock(in_channels, feature))\n",
    "            in_channels = feature\n",
    "\n",
    "        for feature in reversed(features):\n",
    "            self.up.append(nn.ConvTranspose2d(feature * 2, feature, kernel_size=2, stride=2))\n",
    "            self.up.append(ConvBlock(feature * 2, feature))\n",
    "\n",
    "        self.bottle_neck = ConvBlock(features[-1], features[-1] * 2)\n",
    "        self.output = nn.Conv2d(features[0], out_channels, kernel_size=1)\n",
    "\n",
    "    def forward(self, x):\n",
    "        skip_connections = []\n",
    "\n",
    "        for block in self.down:\n",
    "            x = block(x)\n",
    "            skip_connections.append(x)\n",
    "            x = self.pool(x)\n",
    "\n",
    "        x = self.bottle_neck(x)\n",
    "        skip_connections = skip_connections[::-1]\n",
    "\n",
    "        for idx in range(0, len(self.up), 2):\n",
    "            x = self.up[idx](x)\n",
    "            skip_connection = skip_connections[idx//2]\n",
    "\n",
    "            if x.shape != skip_connection.shape:\n",
    "                x = VT.resize(x, size=skip_connection.shape[2:])\n",
    "\n",
    "            concat_skip = torch.cat((skip_connection, x), dim=1)\n",
    "            x = self.up[idx+1](concat_skip)\n",
    "\n",
    "        return self.output(x)"
   ]
  },
  {
   "cell_type": "markdown",
   "metadata": {},
   "source": [
    "### Loss function"
   ]
  },
  {
   "cell_type": "code",
   "execution_count": 9,
   "metadata": {},
   "outputs": [],
   "source": [
    "def dice_loss(pred, target, smooth=1e-6):\n",
    "\n",
    "    pred = torch.sigmoid(pred) # Ensure it's in the range [0,1]\n",
    "    \n",
    "    # Flatten tensors to (N, H*W) for easier computation\n",
    "    pred = pred.view(pred.shape[0], -1)\n",
    "    target = target.view(target.shape[0], -1)\n",
    "\n",
    "    # Compute intersection and union\n",
    "    intersection = (pred * target).sum(dim=1)\n",
    "    union = (pred + target).sum(dim=1)\n",
    "\n",
    "    # Compute Dice coefficient\n",
    "    dice = (2. * intersection + smooth) / (union + smooth)\n",
    "    \n",
    "    # Return Dice loss (1 - Dice coefficient)\n",
    "    return 1 - dice.mean()\n",
    "\n",
    "def dice_bce_loss(pred, target, alpha=0.5):\n",
    "    bce = F.binary_cross_entropy_with_logits(pred, target)\n",
    "    dice = dice_loss(pred, target)\n",
    "    return alpha * bce + (1 - alpha) * dice"
   ]
  },
  {
   "cell_type": "markdown",
   "metadata": {},
   "source": [
    "## Training"
   ]
  },
  {
   "cell_type": "markdown",
   "metadata": {},
   "source": [
    "### Instantiate model, optimizer, and loss function"
   ]
  },
  {
   "cell_type": "code",
   "execution_count": 10,
   "metadata": {},
   "outputs": [
    {
     "name": "stdout",
     "output_type": "stream",
     "text": [
      "Number of parameters: 31043521\n"
     ]
    }
   ],
   "source": [
    "model = UNET(in_channels=3, out_channels=1, features=[64, 128, 256, 512]).to(device)\n",
    "optimizer = optim.Adam(model.parameters(), lr=1e-4)\n",
    "\n",
    "if use_pretrained:\n",
    "    checkpoint = torch.load(checkpoint_path)\n",
    "    model.load_state_dict(checkpoint['model_state_dict'])\n",
    "    optimizer.load_state_dict(checkpoint['optimizer_state_dict'])\n",
    "\n",
    "#loss_fn = nn.BCEWithLogitsLoss()\n",
    "loss_fn = dice_bce_loss\n",
    "\n",
    "print(\"Number of parameters:\", count_parameters(model))"
   ]
  },
  {
   "cell_type": "markdown",
   "metadata": {},
   "source": [
    "### Train model"
   ]
  },
  {
   "cell_type": "code",
   "execution_count": 11,
   "metadata": {},
   "outputs": [
    {
     "name": "stderr",
     "output_type": "stream",
     "text": [
      "[1/10] loss=0.29011: 100%|██████████| 287/287 [03:01<00:00,  1.58it/s]\n",
      "[2/10] loss=0.20044: 100%|██████████| 287/287 [03:00<00:00,  1.59it/s]\n",
      "[3/10] loss=0.16654: 100%|██████████| 287/287 [03:00<00:00,  1.59it/s]\n",
      "[4/10] loss=0.15: 100%|██████████| 287/287 [02:59<00:00,  1.59it/s]   \n",
      "[5/10] loss=0.13977: 100%|██████████| 287/287 [03:06<00:00,  1.54it/s]\n",
      "[6/10] loss=0.13454: 100%|██████████| 287/287 [03:03<00:00,  1.56it/s]\n",
      "[7/10] loss=0.13138: 100%|██████████| 287/287 [02:59<00:00,  1.60it/s]\n",
      "[8/10] loss=0.12727: 100%|██████████| 287/287 [02:59<00:00,  1.60it/s]\n",
      "[9/10] loss=0.12408: 100%|██████████| 287/287 [02:53<00:00,  1.66it/s]\n",
      "[10/10] loss=0.1223: 100%|██████████| 287/287 [02:54<00:00,  1.64it/s] \n"
     ]
    }
   ],
   "source": [
    "if continue_training:\n",
    "    model.train()\n",
    "    for epoch in range(num_epochs):\n",
    "        total_loss = 0\n",
    "        loop = tqdm(train_loader, total=len(train_loader), desc=f\"[{epoch+1}/{num_epochs}] loss=inf\")\n",
    "        for idx, (x_batch, y_batch) in enumerate(loop):\n",
    "            x_batch, y_batch = x_batch.to(device), y_batch.to(device)\n",
    "\n",
    "            optimizer.zero_grad()\n",
    "\n",
    "            logits = model(x_batch)\n",
    "            logits = logits.squeeze(1)\n",
    "\n",
    "            loss = loss_fn(logits, y_batch.squeeze(1))\n",
    "            total_loss += loss.item()\n",
    "            \n",
    "            if (idx + 1) % 10 == 0:\n",
    "                loop.desc = f\"[{epoch+1}/{num_epochs}] loss={round(total_loss / (idx + 1), 5)}\"\n",
    "\n",
    "            loss.backward()\n",
    "            optimizer.step()\n",
    "\n",
    "        # Use to test a testing dataset\n",
    "        \"\"\"for idx, (x_batch, y_batch) in enumerate(test_dataloader):\n",
    "            x_batch, y_batch = x_batch.to(device), y_batch.to(device)\n",
    "\n",
    "            optimizer.zero_grad()\n",
    "\n",
    "            logits = model(x_batch)\n",
    "            logits = logits.squeeze(1)\n",
    "\n",
    "            loss = loss_fn(logits, y_batch.squeeze(1))\n",
    "            total_loss += loss.item()\n",
    "            \n",
    "            if (idx + 1) % 10 == 0:\n",
    "                loop.desc = f\"[{epoch+1}/{num_epochs}] loss={round(total_loss / (idx + 1), 5)}\"\n",
    "\n",
    "            loss.backward()\n",
    "            optimizer.step()\"\"\""
   ]
  },
  {
   "cell_type": "markdown",
   "metadata": {},
   "source": [
    "## Testing"
   ]
  },
  {
   "cell_type": "markdown",
   "metadata": {},
   "source": [
    "### Output model predictions to \"model_outputs\""
   ]
  },
  {
   "cell_type": "code",
   "execution_count": 14,
   "metadata": {},
   "outputs": [],
   "source": [
    "model.eval()\n",
    "for idx, (x, y) in enumerate(test_dataset):\n",
    "    x: torch.Tensor\n",
    "    y: torch.Tensor\n",
    "\n",
    "    x = x.to(device=device).unsqueeze(0)\n",
    "    with torch.no_grad():\n",
    "        preds = model(x)\n",
    "        preds = torch.sigmoid(model(x))\n",
    "        preds = (preds > 0.5).float()\n",
    "    save_image(\n",
    "        preds, f\"{model_output_folder}\\\\{idx}_pred.png\"\n",
    "    )\n",
    "    save_image(y.unsqueeze(1), f\"{model_output_folder}\\\\{idx}_real.png\")\n",
    "    if idx + 1 == 50:\n",
    "        break"
   ]
  },
  {
   "cell_type": "markdown",
   "metadata": {},
   "source": [
    "### Calculate Dice Score"
   ]
  },
  {
   "cell_type": "code",
   "execution_count": 15,
   "metadata": {},
   "outputs": [
    {
     "name": "stderr",
     "output_type": "stream",
     "text": [
      "100%|██████████| 32/32 [00:16<00:00,  1.95it/s]"
     ]
    },
    {
     "name": "stdout",
     "output_type": "stream",
     "text": [
      "Got 18517935/19545600 with acc 94.74\n",
      "Dice score: 0.8760800361633301\n"
     ]
    },
    {
     "name": "stderr",
     "output_type": "stream",
     "text": [
      "\n"
     ]
    }
   ],
   "source": [
    "num_correct = 0\n",
    "num_pixels = 0\n",
    "dice_score = 0\n",
    "model.eval()\n",
    "\n",
    "with torch.no_grad():\n",
    "    for x, y in tqdm(test_loader, total=len(test_loader)):\n",
    "        x = x.to(device)\n",
    "        y = y.to(device)\n",
    "        preds = torch.sigmoid(model(x))\n",
    "        preds = (preds > 0.5).float()\n",
    "        num_correct += (preds == y).sum()\n",
    "        num_pixels += torch.numel(preds)\n",
    "        dice_score += (2 * (preds * y).sum()) / (\n",
    "            (preds + y).sum() + 1e-8\n",
    "        )\n",
    "\n",
    "print(\n",
    "    f\"Got {num_correct}/{num_pixels} with acc {num_correct/num_pixels*100:.2f}\"\n",
    ")\n",
    "print(f\"Dice score: {dice_score/len(test_loader)}\")"
   ]
  },
  {
   "cell_type": "markdown",
   "metadata": {},
   "source": [
    "### Calculate Intersection over Under (IoU) score"
   ]
  },
  {
   "cell_type": "code",
   "execution_count": 16,
   "metadata": {},
   "outputs": [],
   "source": [
    "def iou_pytorch(outputs: torch.Tensor, labels: torch.Tensor, smooth: float = 1e-6):\n",
    "    outputs = outputs > 0.5  # Convert to boolean mask\n",
    "    labels = labels > 0.5    # Convert to boolean mask\n",
    "    \n",
    "    intersection = (outputs & labels).float().sum((1, 2))  # Element-wise AND\n",
    "    union = (outputs | labels).float().sum((1, 2))         # Element-wise OR\n",
    "\n",
    "    iou = (intersection + smooth) / (union + smooth)  # Smooth to avoid division by zero\n",
    "\n",
    "    thresholded = torch.clamp(20 * (iou - 0.5), 0, 10).ceil() / 10  # Thresholding\n",
    "    \n",
    "    return thresholded.sum()  # Return IoU values\n"
   ]
  },
  {
   "cell_type": "code",
   "execution_count": 17,
   "metadata": {},
   "outputs": [
    {
     "name": "stderr",
     "output_type": "stream",
     "text": [
      "100%|██████████| 32/32 [00:16<00:00,  1.94it/s]"
     ]
    },
    {
     "name": "stdout",
     "output_type": "stream",
     "text": [
      "IoU Score: 0.6271120309829712\n"
     ]
    },
    {
     "name": "stderr",
     "output_type": "stream",
     "text": [
      "\n"
     ]
    }
   ],
   "source": [
    "total_iou = 0\n",
    "\n",
    "with torch.no_grad():\n",
    "    for x, y in tqdm(test_loader, total=len(test_loader)):\n",
    "        x: torch.Tensor = x.to(device)\n",
    "        y: torch.Tensor = y.to(device)\n",
    "        preds = torch.sigmoid(model(x))\n",
    "        preds = (preds > 0.5).float()\n",
    "        preds.squeeze_(1)\n",
    "        y.squeeze_(1)\n",
    "        iou_score = iou_pytorch(preds, y)\n",
    "        total_iou += iou_score\n",
    "\n",
    "    print(f\"IoU Score: {total_iou / len(test_dataset)}\")"
   ]
  },
  {
   "cell_type": "markdown",
   "metadata": {},
   "source": [
    "### Save model"
   ]
  },
  {
   "cell_type": "code",
   "execution_count": 18,
   "metadata": {},
   "outputs": [],
   "source": [
    "if continue_training:\n",
    "    num_models = len(os.listdir('models'))\n",
    "    model_path = f\"models\\\\model_{num_models}.pth\"\n",
    "    torch.save({\n",
    "        'model_state_dict': model.state_dict(),\n",
    "        'optimizer_state_dict': optimizer.state_dict()\n",
    "    }, model_path)"
   ]
  },
  {
   "cell_type": "code",
   "execution_count": null,
   "metadata": {},
   "outputs": [],
   "source": []
  }
 ],
 "metadata": {
  "kernelspec": {
   "display_name": ".venv",
   "language": "python",
   "name": "python3"
  },
  "language_info": {
   "codemirror_mode": {
    "name": "ipython",
    "version": 3
   },
   "file_extension": ".py",
   "mimetype": "text/x-python",
   "name": "python",
   "nbconvert_exporter": "python",
   "pygments_lexer": "ipython3",
   "version": "3.11.9"
  }
 },
 "nbformat": 4,
 "nbformat_minor": 2
}
